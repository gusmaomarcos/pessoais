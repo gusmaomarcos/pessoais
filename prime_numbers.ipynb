{
  "nbformat": 4,
  "nbformat_minor": 0,
  "metadata": {
    "colab": {
      "provenance": [],
      "authorship_tag": "ABX9TyMMt6wCin/xte04wz/vOPLB",
      "include_colab_link": true
    },
    "kernelspec": {
      "name": "python3",
      "display_name": "Python 3"
    },
    "language_info": {
      "name": "python"
    }
  },
  "cells": [
    {
      "cell_type": "markdown",
      "metadata": {
        "id": "view-in-github",
        "colab_type": "text"
      },
      "source": [
        "<a href=\"https://colab.research.google.com/github/gusmaomarcos/pessoais/blob/main/prime_numbers.ipynb\" target=\"_parent\"><img src=\"https://colab.research.google.com/assets/colab-badge.svg\" alt=\"Open In Colab\"/></a>"
      ]
    },
    {
      "cell_type": "code",
      "execution_count": null,
      "metadata": {
        "colab": {
          "base_uri": "https://localhost:8080/"
        },
        "id": "K8gJerziFfL7",
        "outputId": "48de0db0-9149-4784-924a-284b94a98826"
      },
      "outputs": [
        {
          "output_type": "stream",
          "name": "stdout",
          "text": [
            "2 is a prime number.\n",
            "3 is a prime number.\n",
            "4 equals 2 * 2\n",
            "5 is a prime number.\n",
            "6 equals 2 * 3\n",
            "7 is a prime number.\n",
            "8 equals 2 * 4\n",
            "9 equals 3 * 3\n"
          ]
        }
      ],
      "source": [
        "for n in range(2,10):\n",
        "    for x in range(2,n):\n",
        "        if n % x == 0:\n",
        "            print(f'{n} equals {x} * {n//x}')\n",
        "            break\n",
        "    else:\n",
        "        print(f\"{n} is a prime number.\")"
      ]
    },
    {
      "cell_type": "code",
      "source": [
        "import random\n",
        "\n",
        "# This line creates a set with 6 random numbers\n",
        "lottery_numbers = set(random.sample(list(range(22)), 6))\n",
        "\n",
        "# Here are your players; find out who has the most numbers matching lottery_numbers!\n",
        "players = [\n",
        "    {\"name\": \"Rolf\", \"numbers\": {1, 3, 5, 7, 9, 11}},\n",
        "    {\"name\": \"Charlie\", \"numbers\": {2, 7, 9, 21, 10, 5}},\n",
        "    {\"name\": \"Anna\", \"numbers\": {13, 14, 15, 16, 17, 18}},\n",
        "    {\"name\": \"Jen\", \"numbers\": {19, 20, 12, 7, 3, 5}},\n",
        "]\n",
        "\n",
        "pontuacao = {}\n",
        "\n",
        "for player in players:\n",
        "    nome = player['name']\n",
        "    acertos = set(player['numbers']).intersection(lottery_numbers)\n",
        "    pontos = 100**len(acertos)\n",
        "    pontuacao['{nome}'] = pontos\n",
        "    ganhador = pontuacao\n",
        "\n",
        "print(f'Eu won {ganhador}.')\n",
        "\n",
        "# Then, print out a line such as \"Jen won 1000.\".\n",
        "# The winnings are calculated with the formula:\n",
        "# 100 ** len(numbers_matched)"
      ],
      "metadata": {
        "colab": {
          "base_uri": "https://localhost:8080/"
        },
        "id": "1MAmQ5nHHeX3",
        "outputId": "0370a322-a8f8-45d3-a190-9615d02b2d6f"
      },
      "execution_count": null,
      "outputs": [
        {
          "output_type": "stream",
          "name": "stdout",
          "text": [
            "Eu won None.\n"
          ]
        }
      ]
    },
    {
      "cell_type": "code",
      "source": [
        "import random\n",
        "\n",
        "lottery_numbers = set(random.sample(list(range(22)), 6))\n",
        "\n",
        "players = [\n",
        "    {\"name\": \"Rolf\", \"numbers\": {1, 3, 5, 7, 9, 11}},\n",
        "    {\"name\": \"Charlie\", \"numbers\": {2, 7, 9, 21, 10, 5}},\n",
        "    {\"name\": \"Anna\", \"numbers\": {13, 14, 15, 16, 17, 18}},\n",
        "    {\"name\": \"Jen\", \"numbers\": {19, 20, 12, 7, 3, 5}},\n",
        "]\n",
        "\n",
        "pontuacao = {}\n",
        "\n",
        "for player in players:\n",
        "    acertos = player['numbers'].intersection(lottery_numbers)\n",
        "    pontos = 100*len(acertos)\n",
        "    pontuacao[player['name']] = pontos\n",
        "\n",
        "winner = max(pontuacao, key=pontuacao.get)\n",
        "print(f'{winner} won {pontuacao[winner]}.')"
      ],
      "metadata": {
        "colab": {
          "base_uri": "https://localhost:8080/"
        },
        "id": "a_uDQOx8CR25",
        "outputId": "813b2bc4-80bf-4bca-ffd5-6d78627face2"
      },
      "execution_count": null,
      "outputs": [
        {
          "output_type": "stream",
          "name": "stdout",
          "text": [
            "Jen won 400.\n"
          ]
        }
      ]
    },
    {
      "cell_type": "code",
      "source": [
        "players[0]['name']"
      ],
      "metadata": {
        "id": "uEU5UaIrWvfU",
        "colab": {
          "base_uri": "https://localhost:8080/",
          "height": 35
        },
        "outputId": "35909d59-c780-48d5-fe9a-d70f0e6dcec6"
      },
      "execution_count": null,
      "outputs": [
        {
          "output_type": "execute_result",
          "data": {
            "text/plain": [
              "'Rolf'"
            ],
            "application/vnd.google.colaboratory.intrinsic+json": {
              "type": "string"
            }
          },
          "metadata": {},
          "execution_count": 11
        }
      ]
    },
    {
      "cell_type": "code",
      "source": [],
      "metadata": {
        "id": "8zXpxbAcWLnE"
      },
      "execution_count": null,
      "outputs": []
    }
  ]
}